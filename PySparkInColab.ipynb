{
  "nbformat": 4,
  "nbformat_minor": 0,
  "metadata": {
    "colab": {
      "provenance": [],
      "authorship_tag": "ABX9TyP96t0ex9j3iBK7OT9xfZZF"
    },
    "kernelspec": {
      "name": "python3",
      "display_name": "Python 3"
    },
    "language_info": {
      "name": "python"
    }
  },
  "cells": [
    {
      "cell_type": "markdown",
      "source": [
        "## Setting up PySpark in Colab"
      ],
      "metadata": {
        "id": "sc7pn2RWDpSk"
      }
    },
    {
      "cell_type": "code",
      "execution_count": 2,
      "metadata": {
        "id": "du96JcRd9lEd"
      },
      "outputs": [],
      "source": [
        "# install findspark\n",
        "!apt-get install openjdk-8-jdk-headless -qq > /dev/null\n",
        "!wget -q https://archive.apache.org/dist/spark/spark-2.4.4/spark-2.4.4-bin-hadoop2.7.tgz\n",
        "!tar xf spark-2.4.4-bin-hadoop2.7.tgz\n",
        "!pip install -q findspark"
      ]
    },
    {
      "cell_type": "code",
      "source": [
        "# setting the environment path\n",
        "import os\n",
        "os.environ[\"JAVA_HOME\"] = \"/usr/lib/jvm/java-8-openjdk-amd64\"\n",
        "os.environ[\"SPARK_HOME\"] = \"/content/spark-2.4.4-bin-hadoop2.7\"\n",
        "\n",
        "# import findspark\n",
        "import findspark\n",
        "findspark.init('spark-2.4.4-bin-hadoop2.7')"
      ],
      "metadata": {
        "id": "dEPXzg_J97vV"
      },
      "execution_count": 3,
      "outputs": []
    },
    {
      "cell_type": "code",
      "source": [
        "# create a SparkSession\n",
        "from pyspark.sql import SparkSession\n",
        "spark = SparkSession.builder \\\n",
        "    .master('local[*]') \\\n",
        "    .appName('Iniciando com Spark') \\\n",
        "    .config('spark.ui.port', '4050') \\\n",
        "    .getOrCreate()"
      ],
      "metadata": {
        "id": "r3Ow_Mgu-Mzd"
      },
      "execution_count": 5,
      "outputs": []
    },
    {
      "cell_type": "code",
      "source": [
        "spark"
      ],
      "metadata": {
        "colab": {
          "base_uri": "https://localhost:8080/",
          "height": 219
        },
        "id": "h0bDn21ODHzW",
        "outputId": "f8cc96d2-a994-480e-a506-0969e93d9edf"
      },
      "execution_count": 7,
      "outputs": [
        {
          "output_type": "execute_result",
          "data": {
            "text/plain": [
              "<pyspark.sql.session.SparkSession at 0x7f199118ae90>"
            ],
            "text/html": [
              "\n",
              "            <div>\n",
              "                <p><b>SparkSession - in-memory</b></p>\n",
              "                \n",
              "        <div>\n",
              "            <p><b>SparkContext</b></p>\n",
              "\n",
              "            <p><a href=\"http://6800f4c06bae:4040\">Spark UI</a></p>\n",
              "\n",
              "            <dl>\n",
              "              <dt>Version</dt>\n",
              "                <dd><code>v2.4.4</code></dd>\n",
              "              <dt>Master</dt>\n",
              "                <dd><code>local[*]</code></dd>\n",
              "              <dt>AppName</dt>\n",
              "                <dd><code>pyspark-shell</code></dd>\n",
              "            </dl>\n",
              "        </div>\n",
              "        \n",
              "            </div>\n",
              "        "
            ]
          },
          "metadata": {},
          "execution_count": 7
        }
      ]
    },
    {
      "cell_type": "code",
      "source": [
        "# downloading the file\n",
        "!wget --verbose --show-progress --no-check-certificate https://raw.githubusercontent.com/jonates/opendata/master/receita_federal/receita_federal_arrecadacao_por_UF_2020.csv"
      ],
      "metadata": {
        "colab": {
          "base_uri": "https://localhost:8080/"
        },
        "id": "57tHGauTBohk",
        "outputId": "11e0b4a0-55c7-41b0-8993-66643771419b"
      },
      "execution_count": 6,
      "outputs": [
        {
          "output_type": "stream",
          "name": "stdout",
          "text": [
            "--2022-09-02 16:32:06--  https://raw.githubusercontent.com/jonates/opendata/master/receita_federal/receita_federal_arrecadacao_por_UF_2020.csv\n",
            "Resolving raw.githubusercontent.com (raw.githubusercontent.com)... 185.199.108.133, 185.199.109.133, 185.199.110.133, ...\n",
            "Connecting to raw.githubusercontent.com (raw.githubusercontent.com)|185.199.108.133|:443... connected.\n",
            "HTTP request sent, awaiting response... 200 OK\n",
            "Length: 6216 (6.1K) [text/plain]\n",
            "Saving to: ‘receita_federal_arrecadacao_por_UF_2020.csv’\n",
            "\n",
            "receita_federal_arr 100%[===================>]   6.07K  --.-KB/s    in 0s      \n",
            "\n",
            "2022-09-02 16:32:06 (59.5 MB/s) - ‘receita_federal_arrecadacao_por_UF_2020.csv’ saved [6216/6216]\n",
            "\n"
          ]
        }
      ]
    },
    {
      "cell_type": "markdown",
      "source": [
        "## Starting with PySpark\n"
      ],
      "metadata": {
        "id": "hYRDFReLDxlk"
      }
    },
    {
      "cell_type": "code",
      "source": [
        "# loading data in pyspark\n",
        "df = spark.read.csv(\n",
        "    path = \"/content/receita_federal_arrecadacao_por_UF_2020.csv\", \n",
        "    inferSchema = True, \n",
        "    header = True,\n",
        "    sep = ';', \n",
        "    encoding = \"UTF-8\")"
      ],
      "metadata": {
        "id": "3mnW4h_vC-Yy"
      },
      "execution_count": 10,
      "outputs": []
    },
    {
      "cell_type": "code",
      "source": [
        "df.describe()"
      ],
      "metadata": {
        "colab": {
          "base_uri": "https://localhost:8080/"
        },
        "id": "dQnQ8moqDkNf",
        "outputId": "8a33f1c9-8071-4904-9b8b-c82bd1e3a652"
      },
      "execution_count": 43,
      "outputs": [
        {
          "output_type": "execute_result",
          "data": {
            "text/plain": [
              "DataFrame[summary: string, uf: string, regiao: string, ano: string, imposto_sobre_importacao: string, imposto_sobre_exportacao: string, ipi_total: string, imposto_sobre_a_renda_total: string, irpf: string, irpj: string, imposto_s_renda_retido_na_fonte: string, imposto_s_operacoes_financeiras: string, imposto_territorial_rural: string, cofins: string, contribuicao_para_o_pis_pasep: string, csll: string, cide_combustiveis: string, cpsss_contrib_p_o_plano_de_segurid_social_serv_publico: string, outras_receitas_administradas: string]"
            ]
          },
          "metadata": {},
          "execution_count": 43
        }
      ]
    },
    {
      "cell_type": "code",
      "source": [
        "df.count()"
      ],
      "metadata": {
        "colab": {
          "base_uri": "https://localhost:8080/"
        },
        "id": "mKdOUoqTD9t7",
        "outputId": "cf5b0d2a-40f5-401b-abc9-5222539e562c"
      },
      "execution_count": 13,
      "outputs": [
        {
          "output_type": "execute_result",
          "data": {
            "text/plain": [
              "28"
            ]
          },
          "metadata": {},
          "execution_count": 13
        }
      ]
    },
    {
      "cell_type": "markdown",
      "source": [
        "## Basic Commands for PySpark SQL"
      ],
      "metadata": {
        "id": "9QogMGVVH9UE"
      }
    },
    {
      "cell_type": "code",
      "source": [
        "# reading data in spark.sql\n",
        "df.createOrReplaceTempView('dfSql')\n",
        "sql_df = spark.sql('SELECT * FROM dfSql')"
      ],
      "metadata": {
        "id": "2nTRhc8WEgMp"
      },
      "execution_count": 25,
      "outputs": []
    },
    {
      "cell_type": "code",
      "source": [
        "sql_df.show(5)"
      ],
      "metadata": {
        "colab": {
          "base_uri": "https://localhost:8080/"
        },
        "id": "SWH6qYoRH2g6",
        "outputId": "58e1a741-7ccf-40f7-fd16-00a3fc84c573"
      },
      "execution_count": 27,
      "outputs": [
        {
          "output_type": "stream",
          "name": "stdout",
          "text": [
            "+---+--------+----+------------------------+------------------------+-------------+---------------------------+------------+-------------+-------------------------------+-------------------------------+-------------------------+-------------+-----------------------------+-------------+-----------------+------------------------------------------------------+-----------------------------+\n",
            "| uf|  regiao| ano|imposto_sobre_importacao|imposto_sobre_exportacao|    ipi_total|imposto_sobre_a_renda_total|        irpf|         irpj|imposto_s_renda_retido_na_fonte|imposto_s_operacoes_financeiras|imposto_territorial_rural|       cofins|contribuicao_para_o_pis_pasep|         csll|cide_combustiveis|cpsss_contrib_p_o_plano_de_segurid_social_serv_publico|outras_receitas_administradas|\n",
            "+---+--------+----+------------------------+------------------------+-------------+---------------------------+------------+-------------+-------------------------------+-------------------------------+-------------------------+-------------+-----------------------------+-------------+-----------------+------------------------------------------------------+-----------------------------+\n",
            "| AC|   Norte|2020|               985174,77|                   36,13|   4240199,15|               300199853,59| 62072028,88| 113486699,53|                   124641125,18|                     1897985,08|               1487344,08| 144057300,57|                  76934968,18|  68168473,35|                0|                                          104836396,45|                  14062545,18|\n",
            "| AL|Nordeste|2020|             16616714,74|                19893,75|  72250365,28|              1033019967,29|247567845,14| 340709902,24|                   444742219,91|                     3702912,85|               4421759,01| 729105725,54|                 249770494,48| 229004663,27|         132127,2|                                          338365145,08|                  48113882,82|\n",
            "| AM|   Norte|2020|            762232235,91|      -0,470000000000002| 169272676,24|              4468506183,61|257090145,96|2695103942,73|                  1516312094,92|                    44421129,59|               2348075,49|4269533703,39|                1149824781,99|1983534312,19|       14978664,1|                                          341440307,24|                 272633042,17|\n",
            "| AP|   Norte|2020|               309705,72|                   12,13|   2684901,14|               236338731,37| 52232105,57| 112525771,56|                    71580854,24|                     2864198,87|                797787,75| 106365959,63|                  62458965,04|  56187326,93|                0|                                          309464338,76|                   4004358,08|\n",
            "| BA|Nordeste|2020|           1030620380,98|                30131,08|1583343870,65|               5997973282,7| 982824367,8|2670174389,56|                  2344974525,34|                    25438592,62|               55878608,8|5555103826,17|                1686822120,06|1767716643,83|       2022454,51|                                          917452592,46|                   9234434,79|\n",
            "+---+--------+----+------------------------+------------------------+-------------+---------------------------+------------+-------------+-------------------------------+-------------------------------+-------------------------+-------------+-----------------------------+-------------+-----------------+------------------------------------------------------+-----------------------------+\n",
            "only showing top 5 rows\n",
            "\n"
          ]
        }
      ]
    },
    {
      "cell_type": "code",
      "source": [
        "spark.sql(\"SELECT * FROM dfSql WHERE regiao = 'Norte'\").show()"
      ],
      "metadata": {
        "colab": {
          "base_uri": "https://localhost:8080/"
        },
        "id": "hRf4ETkmINeY",
        "outputId": "4a76fe5a-8d79-4cd8-d50d-145d114900c0"
      },
      "execution_count": 31,
      "outputs": [
        {
          "output_type": "stream",
          "name": "stdout",
          "text": [
            "+---+------+----+------------------------+------------------------+------------+---------------------------+------------+-------------+-------------------------------+-------------------------------+-------------------------+-------------+-----------------------------+-------------+-----------------+------------------------------------------------------+-----------------------------+\n",
            "| uf|regiao| ano|imposto_sobre_importacao|imposto_sobre_exportacao|   ipi_total|imposto_sobre_a_renda_total|        irpf|         irpj|imposto_s_renda_retido_na_fonte|imposto_s_operacoes_financeiras|imposto_territorial_rural|       cofins|contribuicao_para_o_pis_pasep|         csll|cide_combustiveis|cpsss_contrib_p_o_plano_de_segurid_social_serv_publico|outras_receitas_administradas|\n",
            "+---+------+----+------------------------+------------------------+------------+---------------------------+------------+-------------+-------------------------------+-------------------------------+-------------------------+-------------+-----------------------------+-------------+-----------------+------------------------------------------------------+-----------------------------+\n",
            "| AC| Norte|2020|               985174,77|                   36,13|  4240199,15|               300199853,59| 62072028,88| 113486699,53|                   124641125,18|                     1897985,08|               1487344,08| 144057300,57|                  76934968,18|  68168473,35|                0|                                          104836396,45|                  14062545,18|\n",
            "| AM| Norte|2020|            762232235,91|      -0,470000000000002|169272676,24|              4468506183,61|257090145,96|2695103942,73|                  1516312094,92|                    44421129,59|               2348075,49|4269533703,39|                1149824781,99|1983534312,19|       14978664,1|                                          341440307,24|                 272633042,17|\n",
            "| AP| Norte|2020|               309705,72|                   12,13|  2684901,14|               236338731,37| 52232105,57| 112525771,56|                    71580854,24|                     2864198,87|                797787,75| 106365959,63|                  62458965,04|  56187326,93|                0|                                          309464338,76|                   4004358,08|\n",
            "| PA| Norte|2020|             98912193,42|                24666,11|177838811,43|              2917164475,88|407483520,99|1364974772,35|                  1144706182,54|                   110031378,18|              30840910,54|1907101405,68|                 712679134,57| 814984015,39|      28903601,29|                                          630461056,25|                  23479657,12|\n",
            "| RO| Norte|2020|               591043,93|                  475,91| 71418691,26|               884239765,76|200061714,96|    378899086|                    305278964,8|                    35211582,71|              10935235,68| 421537338,79|                 188190433,38| 230838315,45|                0|                                          336764426,83|                  13214541,73|\n",
            "| RR| Norte|2020|               124822,63|                  518,06|    844259,6|               290206138,05| 59049432,26|  122499930,2|                   108656775,59|                      236780,91|               2207509,14| 124477438,83|                  80780659,81|  72391313,04|                0|                                          184449438,95|                   4571969,78|\n",
            "| TO| Norte|2020|                49179,69|                 4108,64| 20380294,27|               809924133,07|366190366,45| 258035182,57|                   185698584,05|                     1932185,55|              33815426,64| 346525036,29|                 164303706,06| 160580142,93|         16870,88|                                          150708466,76|                  11524516,07|\n",
            "+---+------+----+------------------------+------------------------+------------+---------------------------+------------+-------------+-------------------------------+-------------------------------+-------------------------+-------------+-----------------------------+-------------+-----------------+------------------------------------------------------+-----------------------------+\n",
            "\n"
          ]
        }
      ]
    },
    {
      "cell_type": "code",
      "source": [
        "spark.sql(\"SELECT uf, regiao, imposto_sobre_importacao FROM dfSql \\\n",
        "WHERE imposto_sobre_importacao = (SELECT (MAX(imposto_sobre_importacao)) FROM dfSql)\").show()"
      ],
      "metadata": {
        "colab": {
          "base_uri": "https://localhost:8080/"
        },
        "id": "icXNNDfMJyOw",
        "outputId": "0ee21c0f-55ed-4ced-dcfc-f7403e934dc3"
      },
      "execution_count": 42,
      "outputs": [
        {
          "output_type": "stream",
          "name": "stdout",
          "text": [
            "+---+------+------------------------+\n",
            "| uf|regiao|imposto_sobre_importacao|\n",
            "+---+------+------------------------+\n",
            "| PA| Norte|             98912193,42|\n",
            "+---+------+------------------------+\n",
            "\n"
          ]
        }
      ]
    }
  ]
}